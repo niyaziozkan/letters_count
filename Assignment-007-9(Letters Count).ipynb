{
 "cells": [
  {
   "cell_type": "code",
   "execution_count": 1,
   "metadata": {},
   "outputs": [
    {
     "name": "stdout",
     "output_type": "stream",
     "text": [
      "Please enter a sentence: hippo runs to us!\n",
      "{'s': 2, 'r': 1, 'p': 2, 'h': 1, '!': 1, 'n': 1, 'o': 2, ' ': 3, 't': 1, 'u': 2, 'i': 1}\n"
     ]
    }
   ],
   "source": [
    "a = input(\"Please enter a sentence: \")\n",
    "b = set(a)\n",
    "result_dict = {}\n",
    "for i in b:\n",
    "    count_num = 0\n",
    "    count_num = a.count(i)\n",
    "    result_dict[i] = count_num\n",
    "print(result_dict)"
   ]
  },
  {
   "cell_type": "code",
   "execution_count": null,
   "metadata": {},
   "outputs": [],
   "source": []
  }
 ],
 "metadata": {
  "kernelspec": {
   "display_name": "Python 3",
   "language": "python",
   "name": "python3"
  },
  "language_info": {
   "codemirror_mode": {
    "name": "ipython",
    "version": 3
   },
   "file_extension": ".py",
   "mimetype": "text/x-python",
   "name": "python",
   "nbconvert_exporter": "python",
   "pygments_lexer": "ipython3",
   "version": "3.8.3"
  }
 },
 "nbformat": 4,
 "nbformat_minor": 4
}
